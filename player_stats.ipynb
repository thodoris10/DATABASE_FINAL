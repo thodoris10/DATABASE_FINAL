{
 "cells": [
  {
   "cell_type": "code",
   "execution_count": 303,
   "id": "83fbdbc3",
   "metadata": {},
   "outputs": [
    {
     "name": "stdout",
     "output_type": "stream",
     "text": [
      "      Unnamed: 0  person_id first_name     last_name   birthdate  \\\n",
      "0              0      76001       Alaa     Abdelnaby  1968-06-24   \n",
      "1              1      76003     Kareem  Abdul-Jabbar  1947-04-16   \n",
      "2              2       1505      Tariq   Abdul-Wahad  1974-11-03   \n",
      "3              3        949    Shareef   Abdur-Rahim  1976-12-11   \n",
      "4              4      76005        Tom     Abernethy  1954-05-06   \n",
      "...          ...        ...        ...           ...         ...   \n",
      "4166        4166    1627835       Paul        Zipser  1994-02-18   \n",
      "4167        4167    1627790       Ante         Zizic  1997-01-04   \n",
      "4168        4168      78647        Jim          Zoet  1953-12-30   \n",
      "4169        4169    1627826      Ivica         Zubac  1997-03-18   \n",
      "4170        4170      78650       Matt         Zunic  1919-12-19   \n",
      "\n",
      "                 school  country       last_affiliation height  weight  ...  \\\n",
      "0                  Duke      USA               Duke/USA   6-10   240.0  ...   \n",
      "1                  UCLA      USA               UCLA/USA    7-2   225.0  ...   \n",
      "2        San Jose State   France  San Jose State/France    6-6   235.0  ...   \n",
      "3            California      USA         California/USA    6-9   245.0  ...   \n",
      "4               Indiana      USA            Indiana/USA    6-7   220.0  ...   \n",
      "...                 ...      ...                    ...    ...     ...  ...   \n",
      "4166      Bayern Munich  Germany  Bayern Munich/Germany    6-8   226.0  ...   \n",
      "4167        Darussafaka  Croatia    Darussafaka/Croatia   6-10   266.0  ...   \n",
      "4168         Kent State      USA         Kent State/USA    7-1   240.0  ...   \n",
      "4169        Mega Basket  Croatia    Mega Basket/Croatia    7-0   240.0  ...   \n",
      "4170  George Washington      USA  George Washington/USA    6-3   195.0  ...   \n",
      "\n",
      "           position      team_name team_abbreviation from_year  to_year  \\\n",
      "0           Forward  Trail Blazers               POR    1990.0   1994.0   \n",
      "1            Center         Lakers               LAL    1969.0   1988.0   \n",
      "2     Forward-Guard          Kings               SAC    1997.0   2003.0   \n",
      "3           Forward      Grizzlies               VAN    1996.0   2007.0   \n",
      "4           Forward       Warriors               GOS    1976.0   1980.0   \n",
      "...             ...            ...               ...       ...      ...   \n",
      "4166        Forward          Bulls               CHI    2016.0   2017.0   \n",
      "4167         Center      Cavaliers               CLE    2017.0   2019.0   \n",
      "4168         Center        Pistons               DET    1982.0   1982.0   \n",
      "4169         Center       Clippers               LAC    2016.0   2023.0   \n",
      "4170          Guard       Capitols               WAS    1948.0   1948.0   \n",
      "\n",
      "      draft_year  draft_round  draft_number  greatest_75_flag  birthhdate  \n",
      "0           1990            1            25                 N  1968-06-24  \n",
      "1           1969            1             1                 Y  1947-04-16  \n",
      "2           1997            1            11                 N  1974-11-03  \n",
      "3           1996            1             3                 N  1976-12-11  \n",
      "4           1976            3            43                 N  1954-05-06  \n",
      "...          ...          ...           ...               ...         ...  \n",
      "4166        2016            2            48                 N  1994-02-18  \n",
      "4167        2016            1            23                 N  1997-01-04  \n",
      "4168           0            0             0                 N  1953-12-30  \n",
      "4169        2016            2            32                 N  1997-03-18  \n",
      "4170        1947            0             0                 N  1919-12-19  \n",
      "\n",
      "[4171 rows x 21 columns]\n"
     ]
    }
   ],
   "source": [
    "import pandas as pd\n",
    "data= pd.read_csv('player_info_clean.csv')\n",
    "print(data)"
   ]
  },
  {
   "cell_type": "code",
   "execution_count": 306,
   "id": "521cef77",
   "metadata": {},
   "outputs": [
    {
     "data": {
      "text/plain": [
       "True"
      ]
     },
     "execution_count": 306,
     "metadata": {},
     "output_type": "execute_result"
    }
   ],
   "source": [
    "are_unique = data['person_id'].is_unique\n",
    "are_unique"
   ]
  },
  {
   "cell_type": "code",
   "execution_count": 286,
   "id": "93182a63",
   "metadata": {},
   "outputs": [
    {
     "data": {
      "text/plain": [
       "Index(['RANK', 'NAME', 'TEAM', 'POS', 'AGE', 'GP', 'MPG', 'USG%', 'TO%', 'FTA',\n",
       "       'FT%', '2PA', '2P%', '3PA', '3P%', 'eFG%', 'TS%', 'PPG', 'RPG', 'APG',\n",
       "       'SPG', 'BPG', 'TPG', 'P+R', 'P+A', 'P+R+A', 'VI', 'ORtg', 'DRtg'],\n",
       "      dtype='object')"
      ]
     },
     "execution_count": 286,
     "metadata": {},
     "output_type": "execute_result"
    }
   ],
   "source": [
    "data.columns"
   ]
  },
  {
   "cell_type": "code",
   "execution_count": 287,
   "id": "352a821c",
   "metadata": {},
   "outputs": [
    {
     "name": "stdout",
     "output_type": "stream",
     "text": [
      "                NAME TEAM  POS   AGE  GP   MPG  USG%  FTA    FT%  2PA  ...  \\\n",
      "0      Kawhi Leonard  Lac    F  32.0   2  40.2  30.0   17  0.882   34  ...   \n",
      "1       Devin Booker  Pho    G  26.6  11  41.7  29.0   67  0.866  180  ...   \n",
      "2    Anthony Edwards  Min    G  21.9   5  39.7  32.4   39  0.846   71  ...   \n",
      "3      Stephen Curry  Gol    G  35.2  13  37.9  31.6   58  0.845  154  ...   \n",
      "4       Nikola Jokic  Den    C  28.3  20  39.4  31.2  139  0.799  338  ...   \n",
      "..               ...  ...  ...   ...  ..   ...   ...  ...    ...  ...  ...   \n",
      "212     Derrick Rose  Nyk    G  34.7   1   2.5  71.4    0  0.000    3  ...   \n",
      "213      Ricky Rubio  Cle    G  32.6   3   5.7  16.6    0  0.000    1  ...   \n",
      "214    Edmond Sumner  Bro    G  27.5   1   4.5   0.0    0  0.000    0  ...   \n",
      "215   Dewayne Dedmon  Phi    C  33.8   1   5.0  18.5    0  0.000    0  ...   \n",
      "216  DaQuan Jeffries  Nyk  G-F  25.8   2   2.3   0.0    0  0.000    0  ...   \n",
      "\n",
      "       3P%    TS%   PPG   RPG  APG  SPG  BPG  TPG   ORtg   DRtg  \n",
      "0    0.600  0.670  34.5   6.5  6.0  2.0  0.5  3.0  129.4  110.8  \n",
      "1    0.508  0.686  33.7   4.8  7.2  1.7  0.8  2.9  130.7  110.0  \n",
      "2    0.349  0.602  31.6   5.0  5.2  1.8  2.0  1.6  122.1  111.0  \n",
      "3    0.363  0.588  30.5   5.2  6.1  1.0  0.5  3.2  112.4  112.0  \n",
      "4    0.461  0.631  30.0  13.5  9.5  1.1  1.0  3.5  127.1  104.5  \n",
      "..     ...    ...   ...   ...  ...  ...  ...  ...    ...    ...  \n",
      "212  0.000  0.000   0.0   0.0  1.0  0.0  0.0  0.0    NaN    NaN  \n",
      "213  0.000  0.000   0.0   2.0  1.0  0.3  0.0  1.7   46.2   76.1  \n",
      "214  0.000    NaN   0.0   0.0  1.0  0.0  0.0  0.0    NaN  125.1  \n",
      "215  0.000  0.000   0.0   1.0  0.0  0.0  0.0  1.0    0.0   94.9  \n",
      "216  0.000    NaN   0.0   0.0  0.0  0.0  0.0  0.0    NaN    NaN  \n",
      "\n",
      "[217 rows x 22 columns]\n"
     ]
    }
   ],
   "source": [
    "columns_drop=['RANK','TO%','VI','eFG%','P+R','P+A','P+R+A']\n",
    "data.drop(columns_drop, axis=1, inplace=True)\n",
    "print(data)"
   ]
  },
  {
   "cell_type": "code",
   "execution_count": 288,
   "id": "4d683967",
   "metadata": {},
   "outputs": [
    {
     "data": {
      "text/plain": [
       "Index(['NAME', 'TEAM', 'POS', 'AGE', 'GP', 'MPG', 'USG%', 'FTA', 'FT%', '2PA',\n",
       "       '2P%', '3PA', '3P%', 'TS%', 'PPG', 'RPG', 'APG', 'SPG', 'BPG', 'TPG',\n",
       "       'ORtg', 'DRtg'],\n",
       "      dtype='object')"
      ]
     },
     "execution_count": 288,
     "metadata": {},
     "output_type": "execute_result"
    }
   ],
   "source": [
    "data.columns"
   ]
  },
  {
   "cell_type": "code",
   "execution_count": 289,
   "id": "a4e57940",
   "metadata": {},
   "outputs": [
    {
     "name": "stdout",
     "output_type": "stream",
     "text": [
      "                NAME TEAM  POS   AGE  GP   MPG  USG%  FTA    FT%  2PA  ...  \\\n",
      "0      Kawhi Leonard  Lac    F  32.0   2  40.2  30.0   17  0.882   34  ...   \n",
      "1       Devin Booker  Pho    G  26.6  11  41.7  29.0   67  0.866  180  ...   \n",
      "2    Anthony Edwards  Min    G  21.9   5  39.7  32.4   39  0.846   71  ...   \n",
      "3      Stephen Curry  Gol    G  35.2  13  37.9  31.6   58  0.845  154  ...   \n",
      "4       Nikola Jokic  Den    C  28.3  20  39.4  31.2  139  0.799  338  ...   \n",
      "..               ...  ...  ...   ...  ..   ...   ...  ...    ...  ...  ...   \n",
      "212     Derrick Rose  Nyk    G  34.7   1   2.5  71.4    0  0.000    3  ...   \n",
      "213      Ricky Rubio  Cle    G  32.6   3   5.7  16.6    0  0.000    1  ...   \n",
      "214    Edmond Sumner  Bro    G  27.5   1   4.5   0.0    0  0.000    0  ...   \n",
      "215   Dewayne Dedmon  Phi    C  33.8   1   5.0  18.5    0  0.000    0  ...   \n",
      "216  DaQuan Jeffries  Nyk  G-F  25.8   2   2.3   0.0    0  0.000    0  ...   \n",
      "\n",
      "       TS%   PPG   RPG  APG  SPG  BPG  TPG   ORtg   DRtg   Season  \n",
      "0    0.670  34.5   6.5  6.0  2.0  0.5  3.0  129.4  110.8  2022-23  \n",
      "1    0.686  33.7   4.8  7.2  1.7  0.8  2.9  130.7  110.0  2022-23  \n",
      "2    0.602  31.6   5.0  5.2  1.8  2.0  1.6  122.1  111.0  2022-23  \n",
      "3    0.588  30.5   5.2  6.1  1.0  0.5  3.2  112.4  112.0  2022-23  \n",
      "4    0.631  30.0  13.5  9.5  1.1  1.0  3.5  127.1  104.5  2022-23  \n",
      "..     ...   ...   ...  ...  ...  ...  ...    ...    ...      ...  \n",
      "212  0.000   0.0   0.0  1.0  0.0  0.0  0.0    NaN    NaN  2022-23  \n",
      "213  0.000   0.0   2.0  1.0  0.3  0.0  1.7   46.2   76.1  2022-23  \n",
      "214    NaN   0.0   0.0  1.0  0.0  0.0  0.0    NaN  125.1  2022-23  \n",
      "215  0.000   0.0   1.0  0.0  0.0  0.0  1.0    0.0   94.9  2022-23  \n",
      "216    NaN   0.0   0.0  0.0  0.0  0.0  0.0    NaN    NaN  2022-23  \n",
      "\n",
      "[217 rows x 23 columns]\n"
     ]
    }
   ],
   "source": [
    "data['Season'] = \"2022-23\"\n",
    "print(data)"
   ]
  },
  {
   "cell_type": "code",
   "execution_count": 290,
   "id": "76ca0b81",
   "metadata": {},
   "outputs": [
    {
     "name": "stdout",
     "output_type": "stream",
     "text": [
      "NAME       object\n",
      "TEAM       object\n",
      "POS        object\n",
      "AGE       float64\n",
      "GP          int64\n",
      "MPG       float64\n",
      "USG%      float64\n",
      "FTA         int64\n",
      "FT%       float64\n",
      "2PA         int64\n",
      "2P%       float64\n",
      "3PA         int64\n",
      "3P%       float64\n",
      "TS%       float64\n",
      "PPG       float64\n",
      "RPG       float64\n",
      "APG       float64\n",
      "SPG       float64\n",
      "BPG       float64\n",
      "TPG       float64\n",
      "ORtg      float64\n",
      "DRtg      float64\n",
      "Season     object\n",
      "dtype: object\n"
     ]
    }
   ],
   "source": [
    "data_types=data.dtypes\n",
    "print(data_types)"
   ]
  },
  {
   "cell_type": "code",
   "execution_count": 293,
   "id": "84901419",
   "metadata": {},
   "outputs": [
    {
     "data": {
      "text/plain": [
       "NAME      0\n",
       "TEAM      0\n",
       "POS       0\n",
       "AGE       0\n",
       "GP        0\n",
       "MPG       0\n",
       "USG%      0\n",
       "FTA       0\n",
       "FT%       0\n",
       "2PA       0\n",
       "2P%       0\n",
       "3PA       0\n",
       "3P%       0\n",
       "TS%       0\n",
       "PPG       0\n",
       "RPG       0\n",
       "APG       0\n",
       "SPG       0\n",
       "BPG       0\n",
       "TPG       0\n",
       "ORtg      0\n",
       "DRtg      0\n",
       "Season    0\n",
       "dtype: int64"
      ]
     },
     "execution_count": 293,
     "metadata": {},
     "output_type": "execute_result"
    }
   ],
   "source": [
    "data.isna().sum()"
   ]
  },
  {
   "cell_type": "code",
   "execution_count": 292,
   "id": "b88fccdd",
   "metadata": {},
   "outputs": [],
   "source": [
    "data.fillna(0,inplace=True)"
   ]
  },
  {
   "cell_type": "code",
   "execution_count": 294,
   "id": "fee62cab",
   "metadata": {},
   "outputs": [
    {
     "name": "stdout",
     "output_type": "stream",
     "text": [
      "                NAME TEAM  POS   AGE  GP   MPG  USG%  FTA    FT%  2PA  ...  \\\n",
      "0      Kawhi Leonard  Lac    F  32.0   2  40.2  30.0   17  0.882   34  ...   \n",
      "1       Devin Booker  Pho    G  26.6  11  41.7  29.0   67  0.866  180  ...   \n",
      "2    Anthony Edwards  Min    G  21.9   5  39.7  32.4   39  0.846   71  ...   \n",
      "3      Stephen Curry  Gol    G  35.2  13  37.9  31.6   58  0.845  154  ...   \n",
      "4       Nikola Jokic  Den    C  28.3  20  39.4  31.2  139  0.799  338  ...   \n",
      "..               ...  ...  ...   ...  ..   ...   ...  ...    ...  ...  ...   \n",
      "212     Derrick Rose  Nyk    G  34.7   1   2.5  71.4    0  0.000    3  ...   \n",
      "213      Ricky Rubio  Cle    G  32.6   3   5.7  16.6    0  0.000    1  ...   \n",
      "214    Edmond Sumner  Bro    G  27.5   1   4.5   0.0    0  0.000    0  ...   \n",
      "215   Dewayne Dedmon  Phi    C  33.8   1   5.0  18.5    0  0.000    0  ...   \n",
      "216  DaQuan Jeffries  Nyk  G-F  25.8   2   2.3   0.0    0  0.000    0  ...   \n",
      "\n",
      "       TS%   PPG   RPG  APG  SPG  BPG  TPG   ORtg   DRtg   Season  \n",
      "0    0.670  34.5   6.5  6.0  2.0  0.5  3.0  129.4  110.8  2022-23  \n",
      "1    0.686  33.7   4.8  7.2  1.7  0.8  2.9  130.7  110.0  2022-23  \n",
      "2    0.602  31.6   5.0  5.2  1.8  2.0  1.6  122.1  111.0  2022-23  \n",
      "3    0.588  30.5   5.2  6.1  1.0  0.5  3.2  112.4  112.0  2022-23  \n",
      "4    0.631  30.0  13.5  9.5  1.1  1.0  3.5  127.1  104.5  2022-23  \n",
      "..     ...   ...   ...  ...  ...  ...  ...    ...    ...      ...  \n",
      "212  0.000   0.0   0.0  1.0  0.0  0.0  0.0    0.0    0.0  2022-23  \n",
      "213  0.000   0.0   2.0  1.0  0.3  0.0  1.7   46.2   76.1  2022-23  \n",
      "214  0.000   0.0   0.0  1.0  0.0  0.0  0.0    0.0  125.1  2022-23  \n",
      "215  0.000   0.0   1.0  0.0  0.0  0.0  1.0    0.0   94.9  2022-23  \n",
      "216  0.000   0.0   0.0  0.0  0.0  0.0  0.0    0.0    0.0  2022-23  \n",
      "\n",
      "[217 rows x 23 columns]\n"
     ]
    }
   ],
   "source": [
    "print(data)"
   ]
  },
  {
   "cell_type": "code",
   "execution_count": 295,
   "id": "ef2a9a79",
   "metadata": {},
   "outputs": [],
   "source": [
    "path = '/Users/paterosthodoris/Desktop/STAT/SPRING_2024/STAT_6289/Final_Project/DATA/PLAYER_PLAYOFF2223.csv'\n",
    "data.to_csv(path, index=True)"
   ]
  },
  {
   "cell_type": "code",
   "execution_count": 210,
   "id": "fafaa214",
   "metadata": {},
   "outputs": [
    {
     "name": "stdout",
     "output_type": "stream",
     "text": [
      "Index(['NAME', 'TEAM', 'POS', 'AGE', 'GP', 'MPG', 'FTA', 'FT%', '2PA', '2P%',\n",
      "       '3PA', '3P%', 'eFG%', 'TS%', 'PPG', 'RPG', 'APG', 'SPG', 'BPG', 'TPG',\n",
      "       'ORtg', 'DRtg', 'Key', 'Season'],\n",
      "      dtype='object')\n"
     ]
    }
   ],
   "source": [
    "print(data2324.columns)"
   ]
  },
  {
   "cell_type": "code",
   "execution_count": 211,
   "id": "9fe1883b",
   "metadata": {},
   "outputs": [
    {
     "name": "stdout",
     "output_type": "stream",
     "text": [
      "                        NAME TEAM POS   AGE  GP   MPG  FTA    FT%   2PA  \\\n",
      "0                Joel Embiid  Phi   C  30.1  39  33.6  452  0.883   712   \n",
      "1                Luka Doncic  Dal   G  25.1  70  37.5  608  0.786   908   \n",
      "2      Giannis Antetokounmpo  Mil   F  29.4  73  35.2  782  0.657  1246   \n",
      "3    Shai Gilgeous-Alexander  Okc   G  25.8  75  34.0  649  0.874  1218   \n",
      "4              Jalen Brunson  Nyk   G  27.6  77  35.4  497  0.847  1122   \n",
      "..                       ...  ...  ..   ...  ..   ...  ...    ...   ...   \n",
      "652           Justin Jackson  Min   F  29.1   2   0.4    0  0.000     0   \n",
      "653           Jalen Crutcher  Nor   G  24.7   1   2.7    0  0.000     1   \n",
      "654              Andrew Funk  Chi   G  24.6   5   2.7    0  0.000     1   \n",
      "655            Jacob Gilyard  Bro   G  25.8   4  11.2    0  0.000     0   \n",
      "656           Mamadi Diakite  Nyk   F  27.2   3   2.8    0  0.000     0   \n",
      "\n",
      "       2P%  ...   PPG   RPG  APG  SPG  BPG  TPG   ORtg   DRtg  Key   Season  \n",
      "0    0.556  ...  34.7  11.0  5.6  1.2  1.7  3.8  124.0  104.8    0  2023-24  \n",
      "1    0.573  ...  33.9   9.2  9.8  1.4  0.5  4.0  121.9  109.9    1  2023-24  \n",
      "2    0.644  ...  30.4  11.5  6.5  1.2  1.1  3.4  125.6  106.9    2  2023-24  \n",
      "3    0.576  ...  30.1   5.5  6.2  2.0  0.9  2.2  128.6  107.7    3  2023-24  \n",
      "4    0.516  ...  28.7   3.6  6.7  0.9  0.2  2.4  124.2  112.6    4  2023-24  \n",
      "..     ...  ...   ...   ...  ...  ...  ...  ...    ...    ...  ...      ...  \n",
      "652  0.000  ...   0.0   0.0  0.0  0.0  0.0  0.0    0.0    0.0  652  2023-24  \n",
      "653  0.000  ...   0.0   0.0  0.0  0.0  0.0  0.0    0.0    0.0  653  2023-24  \n",
      "654  0.000  ...   0.0   0.0  0.0  0.2  0.2  0.0    0.0    0.0  654  2023-24  \n",
      "655  0.000  ...   0.0   0.8  1.5  1.5  0.0  0.3   57.7  106.2  655  2023-24  \n",
      "656  0.000  ...   0.0   0.3  0.0  0.3  0.0  0.3    0.0    0.0  656  2023-24  \n",
      "\n",
      "[657 rows x 23 columns]\n"
     ]
    }
   ],
   "source": [
    "columns_drop=['eFG%']\n",
    "data2324.drop(columns_drop,axis=1,inplace=True)\n",
    "print(data2324)"
   ]
  },
  {
   "cell_type": "code",
   "execution_count": 216,
   "id": "d104a21d",
   "metadata": {},
   "outputs": [
    {
     "name": "stdout",
     "output_type": "stream",
     "text": [
      "     Key                     NAME TEAM POS  GP   MPG   PPG   RPG  APG  SPG  \\\n",
      "0      0              Joel Embiid  Phi   C  39  33.6  34.7  11.0  5.6  1.2   \n",
      "1      1              Luka Doncic  Dal   G  70  37.5  33.9   9.2  9.8  1.4   \n",
      "2      2    Giannis Antetokounmpo  Mil   F  73  35.2  30.4  11.5  6.5  1.2   \n",
      "3      3  Shai Gilgeous-Alexander  Okc   G  75  34.0  30.1   5.5  6.2  2.0   \n",
      "4      4            Jalen Brunson  Nyk   G  77  35.4  28.7   3.6  6.7  0.9   \n",
      "..   ...                      ...  ...  ..  ..   ...   ...   ...  ...  ...   \n",
      "652  652           Justin Jackson  Min   F   2   0.4   0.0   0.0  0.0  0.0   \n",
      "653  653           Jalen Crutcher  Nor   G   1   2.7   0.0   0.0  0.0  0.0   \n",
      "654  654              Andrew Funk  Chi   G   5   2.7   0.0   0.0  0.0  0.2   \n",
      "655  655            Jacob Gilyard  Bro   G   4  11.2   0.0   0.8  1.5  1.5   \n",
      "656  656           Mamadi Diakite  Nyk   F   3   2.8   0.0   0.3  0.0  0.3   \n",
      "\n",
      "     BPG  TPG   Season  \n",
      "0    1.7  3.8  2023-24  \n",
      "1    0.5  4.0  2023-24  \n",
      "2    1.1  3.4  2023-24  \n",
      "3    0.9  2.2  2023-24  \n",
      "4    0.2  2.4  2023-24  \n",
      "..   ...  ...      ...  \n",
      "652  0.0  0.0  2023-24  \n",
      "653  0.0  0.0  2023-24  \n",
      "654  0.2  0.0  2023-24  \n",
      "655  0.0  0.3  2023-24  \n",
      "656  0.0  0.3  2023-24  \n",
      "\n",
      "[657 rows x 13 columns]\n"
     ]
    }
   ],
   "source": [
    "data=data2324[['Key','NAME','TEAM','POS','GP','MPG','PPG','RPG','APG','SPG','BPG','TPG','Season']]\n",
    "print(data)"
   ]
  },
  {
   "cell_type": "code",
   "execution_count": 217,
   "id": "4329afb3",
   "metadata": {},
   "outputs": [],
   "source": [
    "path = '/Users/paterosthodoris/Desktop/STAT/SPRING_2024/STAT_6289/Final_Project/DATA/test.csv'\n",
    "data.to_csv(path, index=True)"
   ]
  },
  {
   "cell_type": "code",
   "execution_count": 244,
   "id": "2e76ec03",
   "metadata": {},
   "outputs": [
    {
     "data": {
      "text/plain": [
       "Index(['NAME', 'TEAM', 'POS', 'AGE', 'GP', 'MPG', 'USG%', 'FTA', 'FT%', '2PA',\n",
       "       '2P%', '3PA', '3P%', 'TS%', 'PPG', 'RPG', 'APG', 'SPG', 'BPG', 'TPG',\n",
       "       'ORtg', 'DRtg', 'Season'],\n",
       "      dtype='object')"
      ]
     },
     "execution_count": 244,
     "metadata": {},
     "output_type": "execute_result"
    }
   ],
   "source": [
    "data.columns"
   ]
  },
  {
   "cell_type": "code",
   "execution_count": 245,
   "id": "0f8a7bb6",
   "metadata": {},
   "outputs": [
    {
     "data": {
      "text/plain": [
       "USG%\n",
       "0.0     5\n",
       "13.5    3\n",
       "13.2    2\n",
       "18.2    2\n",
       "31.9    2\n",
       "       ..\n",
       "18.7    1\n",
       "14.5    1\n",
       "32.3    1\n",
       "13.4    1\n",
       "8.6     1\n",
       "Name: count, Length: 65, dtype: int64"
      ]
     },
     "execution_count": 245,
     "metadata": {},
     "output_type": "execute_result"
    }
   ],
   "source": [
    "data['USG%'].value_counts()"
   ]
  },
  {
   "cell_type": "code",
   "execution_count": 228,
   "id": "c7fa1eeb",
   "metadata": {},
   "outputs": [],
   "source": [
    "path = '/Users/paterosthodoris/Desktop/STAT/SPRING_2024/STAT_6289/Final_Project/DATA/stats2324.csv'\n",
    "data2324.to_csv(path, index=True)"
   ]
  },
  {
   "cell_type": "code",
   "execution_count": 302,
   "id": "81d9470c",
   "metadata": {},
   "outputs": [
    {
     "name": "stdout",
     "output_type": "stream",
     "text": [
      "        Rk               Player Pos  Age   Tm   G  GS    MP   FG   FGA  ...  \\\n",
      "0        1   Mahmoud Abdul-Rauf  PG   28  SAC  31   0  17.1  3.3   8.8  ...   \n",
      "1        2    Tariq Abdul-Wahad  SG   23  SAC  59  16  16.3  2.4   6.1  ...   \n",
      "2        3  Shareef Abdur-Rahim  SF   21  VAN  82  82  36.0  8.0  16.4  ...   \n",
      "3        4       Cory Alexander  PG   24  TOT  60  22  21.6  2.9   6.7  ...   \n",
      "4        4       Cory Alexander  PG   24  SAS  37   3  13.5  1.6   3.9  ...   \n",
      "...    ...                  ...  ..  ...  ...  ..  ..   ...  ...   ...  ...   \n",
      "14568  601       Thaddeus Young  PF   33  TOR  26   0  18.3  2.6   5.5  ...   \n",
      "14569  602           Trae Young  PG   23  ATL  76  76  34.9  9.4  20.3  ...   \n",
      "14570  603       Omer Yurtseven   C   23  MIA  56  12  12.6  2.3   4.4  ...   \n",
      "14571  604          Cody Zeller   C   29  POR  27   0  13.1  1.9   3.3  ...   \n",
      "14572  605          Ivica Zubac   C   24  LAC  76  76  24.4  4.1   6.5  ...   \n",
      "\n",
      "       ORB  DRB  TRB  AST  STL  BLK  TOV   PF   PTS       Year  \n",
      "0      0.2  1.0  1.2  1.9  0.5  0.0  0.6  1.0   7.3  1997-1998  \n",
      "1      0.7  1.2  2.0  0.9  0.6  0.2  1.1  1.4   6.4  1997-1998  \n",
      "2      2.8  4.3  7.1  2.6  1.1  0.9  3.1  2.5  22.3  1997-1998  \n",
      "3      0.3  2.2  2.4  3.5  1.2  0.2  1.9  1.6   8.1  1997-1998  \n",
      "4      0.2  1.1  1.3  1.9  0.7  0.1  1.3  1.4   4.5  1997-1998  \n",
      "...    ...  ...  ...  ...  ...  ...  ...  ...   ...        ...  \n",
      "14568  1.5  2.9  4.4  1.7  1.2  0.4  0.8  1.7   6.3  2021-2022  \n",
      "14569  0.7  3.1  3.7  9.7  0.9  0.1  4.0  1.7  28.4  2021-2022  \n",
      "14570  1.5  3.7  5.3  0.9  0.3  0.4  0.7  1.5   5.3  2021-2022  \n",
      "14571  1.9  2.8  4.6  0.8  0.3  0.2  0.7  2.1   5.2  2021-2022  \n",
      "14572  2.9  5.6  8.5  1.6  0.5  1.0  1.5  2.7  10.3  2021-2022  \n",
      "\n",
      "[14573 rows x 31 columns]\n"
     ]
    }
   ],
   "source": [
    "import pandas as pd\n",
    "data= pd.read_csv('Nba_Player_Stats.csv')\n",
    "print(data)"
   ]
  },
  {
   "cell_type": "code",
   "execution_count": null,
   "id": "465eb4d1",
   "metadata": {},
   "outputs": [],
   "source": []
  }
 ],
 "metadata": {
  "kernelspec": {
   "display_name": "Python 3 (ipykernel)",
   "language": "python",
   "name": "python3"
  },
  "language_info": {
   "codemirror_mode": {
    "name": "ipython",
    "version": 3
   },
   "file_extension": ".py",
   "mimetype": "text/x-python",
   "name": "python",
   "nbconvert_exporter": "python",
   "pygments_lexer": "ipython3",
   "version": "3.9.7"
  }
 },
 "nbformat": 4,
 "nbformat_minor": 5
}
